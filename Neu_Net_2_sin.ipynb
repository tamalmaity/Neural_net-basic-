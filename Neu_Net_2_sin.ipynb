{
 "cells": [
  {
   "cell_type": "code",
   "execution_count": 1,
   "metadata": {},
   "outputs": [],
   "source": [
    "%config IPCompleter.greedy=True"
   ]
  },
  {
   "cell_type": "code",
   "execution_count": 2,
   "metadata": {},
   "outputs": [],
   "source": [
    "%matplotlib inline "
   ]
  },
  {
   "cell_type": "code",
   "execution_count": 3,
   "metadata": {},
   "outputs": [],
   "source": [
    "from matplotlib import pyplot as plt\n",
    "import numpy as np"
   ]
  },
  {
   "cell_type": "code",
   "execution_count": 4,
   "metadata": {},
   "outputs": [],
   "source": [
    "import pandas as pd"
   ]
  },
  {
   "cell_type": "code",
   "execution_count": 5,
   "metadata": {},
   "outputs": [],
   "source": [
    "#sine angles from 0.01-180 in steps of 0.01\n",
    "data = pd.read_excel(r\"/media/tamal/New Volume/Windows/Desktop/sine_angles.xlsx\", sheet_name = \"Sheet1\")\n",
    "data.values[:,1] = data.values[:,1]/180"
   ]
  },
  {
   "cell_type": "code",
   "execution_count": 6,
   "metadata": {},
   "outputs": [],
   "source": [
    "def sigmoid (x):\n",
    "    return 1/(1 + np.exp(-x))\n",
    "\n",
    "def sigmoid_der (x): \n",
    "    return sigmoid (x) * (1 - sigmoid (x))"
   ]
  },
  {
   "cell_type": "code",
   "execution_count": 7,
   "metadata": {},
   "outputs": [],
   "source": [
    "w1 = np.random.randn()\n",
    "w2 = np.random.randn()\n",
    "w3 = np.random.randn()\n",
    "b = np.random.randn()"
   ]
  },
  {
   "cell_type": "code",
   "execution_count": 8,
   "metadata": {},
   "outputs": [],
   "source": [
    "data_train = data[0:12000]\n",
    "data_test = data[12000:18001]"
   ]
  },
  {
   "cell_type": "code",
   "execution_count": 9,
   "metadata": {},
   "outputs": [],
   "source": [
    "learning_rate = 0.05\n",
    "costs = []\n",
    "\n",
    "for i in range (50000):\n",
    "    ri = np.random.randint(len(data_train))\n",
    "    actual = data_train.values[ri,1]\n",
    "    val = data_train.values[ri,0]\n",
    "    z = val*w1 + val*w2 + val*w3 + b\n",
    "    pred = sigmoid(z)\n",
    "    cost = np.square(pred-actual)\n",
    "    costs.append(cost)\n",
    "    \n",
    "    dcost_dpred= 2 * (pred-actual)\n",
    "    dpred_dz = sigmoid_der(z)\n",
    "    \n",
    "    dz_dw1 = val\n",
    "    dz_dw2 = val\n",
    "    dz_dw3 = val\n",
    "    dz_db = 1\n",
    "    \n",
    "    dcost_dw1 = dcost_dpred * dpred_dz * dz_dw1\n",
    "    dcost_dw2 = dcost_dpred * dpred_dz * dz_dw2\n",
    "    dcost_dw3 = dcost_dpred * dpred_dz * dz_dw3\n",
    "    dcost_db = dcost_dpred * dpred_dz * dz_db\n",
    "    \n",
    "    w1 = w1 - learning_rate * dcost_dw1\n",
    "    w2 = w2 - learning_rate * dcost_dw2\n",
    "    w3 = w3 - learning_rate * dcost_dw3\n",
    "    b = b - learning_rate * dcost_db\n",
    "    "
   ]
  },
  {
   "cell_type": "code",
   "execution_count": 10,
   "metadata": {},
   "outputs": [
    {
     "data": {
      "text/plain": [
       "[<matplotlib.lines.Line2D at 0x7eff2cc7f978>]"
      ]
     },
     "execution_count": 10,
     "metadata": {},
     "output_type": "execute_result"
    },
    {
     "data": {
      "image/png": "[encoded data removed]",
      "text/plain": [
       "<Figure size 432x288 with 1 Axes>"
      ]
     },
     "metadata": {
      "needs_background": "light"
     },
     "output_type": "display_data"
    }
   ],
   "source": [
    "plt.plot(costs)"
   ]
  },
  {
   "cell_type": "code",
   "execution_count": 11,
   "metadata": {},
   "outputs": [],
   "source": [
    "err_net = []\n",
    "for i in range (0,5999):\n",
    "    val = data_test.values[i,0]\n",
    "    z = val*w1 + val*w2 + val*w3 + b\n",
    "    pred = sigmoid (z)\n",
    "    err = np.square(pred - ((data_test.values[i,1])))\n",
    "    err_net.append(err)"
   ]
  },
  {
   "cell_type": "code",
   "execution_count": 12,
   "metadata": {},
   "outputs": [
    {
     "data": {
      "text/plain": [
       "[<matplotlib.lines.Line2D at 0x7eff2c8bf080>]"
      ]
     },
     "execution_count": 12,
     "metadata": {},
     "output_type": "execute_result"
    },
    {
     "data": {
      "image/png": "[encoded data removed]",
      "text/plain": [
       "<Figure size 432x288 with 1 Axes>"
      ]
     },
     "metadata": {
      "needs_background": "light"
     },
     "output_type": "display_data"
    }
   ],
   "source": [
    "plt.plot(err_net)"
   ]
  }
 ],
 "metadata": {
  "kernelspec": {
   "display_name": "Python 3",
   "language": "python",
   "name": "python3"
  },
  "language_info": {
   "codemirror_mode": {
    "name": "ipython",
    "version": 3
   },
   "file_extension": ".py",
   "mimetype": "text/x-python",
   "name": "python",
   "nbconvert_exporter": "python",
   "pygments_lexer": "ipython3",
   "version": "3.7.3"
  }
 },
 "nbformat": 4,
 "nbformat_minor": 2
}
